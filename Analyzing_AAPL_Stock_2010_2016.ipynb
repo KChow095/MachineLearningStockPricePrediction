{
 "cells": [
  {
   "cell_type": "markdown",
   "metadata": {},
   "source": [
    "# Analyzing AAPL stock price\n",
    "Trying to reproduce the results from the paper: Khaidem, Luckyson, Snehanshu Saha, and Sudeepa Roy Dey. \"Predicting the direction of stock market prices using random forest.\" arXiv preprint arXiv:1605.00003 (2016). [paper]\n",
    "\n",
    "The code used to replicate the paper results was taken from Jose Martinez Heras at https://github.com/jmartinezheras/reproduce-stock-market-direction-random-forests\n",
    "\n",
    "The first section would be trying to replicate the results from the paper, while the second part will using the model with the new data"
   ]
  },
  {
   "cell_type": "code",
   "execution_count": 23,
   "metadata": {},
   "outputs": [],
   "source": [
    "#Importing nessesary python packages\n",
    "\n",
    "%matplotlib inline\n",
    "import matplotlib.pyplot as plt\n",
    "import numpy as np\n",
    "import pandas as pd\n",
    "import seaborn as sns\n",
    "\n",
    "#Making results reproducible\n",
    "import random\n",
    "np.random.seed(42)\n",
    "random.seed(42)\n",
    "\n",
    "#Importing packages from sklearn\n",
    "from sklearn.ensemble import RandomForestClassifier\n",
    "from sklearn.metrics import f1_score, precision_score, confusion_matrix, recall_score, accuracy_score\n",
    "from sklearn.model_selection import train_test_split\n",
    "\n",
    "#Funtions to do technical indicator calculations\n",
    "import pandas_techinal_indicators as ta"
   ]
  },
  {
   "cell_type": "markdown",
   "metadata": {},
   "source": [
    "## Loading Original and New Data"
   ]
  },
  {
   "cell_type": "code",
   "execution_count": 25,
   "metadata": {},
   "outputs": [
    {
     "data": {
      "text/plain": [
       "False"
      ]
     },
     "execution_count": 25,
     "metadata": {},
     "output_type": "execute_result"
    }
   ],
   "source": [
    "#Original Data\n",
    "aapl_og = pd.read_csv('RawData/AAPL_Original_Adjusted.csv')\n",
    "\n",
    "#New data from 2015-2016\n",
    "aapl_new1 = pd.read_csv('RawData/AAPL_2015_2016.csv')\n",
    "#New data from 2017-2018\n",
    "aapl_new2 = pd.read_csv('RawData/AAPL_2017_2018.csv')\n",
    "#New data from 2017-2018\n",
    "aapl_new3 = pd.read_csv('RawData/AAPL_2019_2020.csv')\n",
    "\n",
    "#combining the different dataframes\n",
    "frames = [aapl_new1,aapl_new2,aapl_new3]\n",
    "aapl_new = pd.concat(frames)\n",
    "\n",
    "aapl_new.isnull().values.any()"
   ]
  },
  {
   "cell_type": "code",
   "execution_count": 26,
   "metadata": {},
   "outputs": [
    {
     "data": {
      "text/plain": [
       "(1479, 7)"
      ]
     },
     "execution_count": 26,
     "metadata": {},
     "output_type": "execute_result"
    }
   ],
   "source": [
    "aapl_new.shape"
   ]
  },
  {
   "cell_type": "code",
   "execution_count": 29,
   "metadata": {},
   "outputs": [
    {
     "data": {
      "text/plain": [
       "Date          object\n",
       "Open         float64\n",
       "High         float64\n",
       "Low          float64\n",
       "Close        float64\n",
       "Adj Close    float64\n",
       "Volume         int64\n",
       "dtype: object"
      ]
     },
     "execution_count": 29,
     "metadata": {},
     "output_type": "execute_result"
    }
   ],
   "source": [
    "aapl_new.dtypes"
   ]
  },
  {
   "cell_type": "code",
   "execution_count": 31,
   "metadata": {},
   "outputs": [
    {
     "data": {
      "text/plain": [
       "Date         datetime64[ns]\n",
       "Open                float64\n",
       "High                float64\n",
       "Low                 float64\n",
       "Close               float64\n",
       "Adj Close           float64\n",
       "Volume                int64\n",
       "dtype: object"
      ]
     },
     "execution_count": 31,
     "metadata": {},
     "output_type": "execute_result"
    }
   ],
   "source": [
    "aapl_new['Date'] = pd.to_datetime(aapl_new['Date'])\n",
    "aapl_new.dtypes"
   ]
  },
  {
   "cell_type": "code",
   "execution_count": 32,
   "metadata": {},
   "outputs": [
    {
     "data": {
      "text/html": [
       "<div>\n",
       "<style scoped>\n",
       "    .dataframe tbody tr th:only-of-type {\n",
       "        vertical-align: middle;\n",
       "    }\n",
       "\n",
       "    .dataframe tbody tr th {\n",
       "        vertical-align: top;\n",
       "    }\n",
       "\n",
       "    .dataframe thead th {\n",
       "        text-align: right;\n",
       "    }\n",
       "</style>\n",
       "<table border=\"1\" class=\"dataframe\">\n",
       "  <thead>\n",
       "    <tr style=\"text-align: right;\">\n",
       "      <th></th>\n",
       "      <th>Date</th>\n",
       "      <th>Open</th>\n",
       "      <th>High</th>\n",
       "      <th>Low</th>\n",
       "      <th>Close</th>\n",
       "      <th>Adj Close</th>\n",
       "      <th>Volume</th>\n",
       "    </tr>\n",
       "  </thead>\n",
       "  <tbody>\n",
       "    <tr>\n",
       "      <th>0</th>\n",
       "      <td>2015-01-02</td>\n",
       "      <td>27.847500</td>\n",
       "      <td>27.860001</td>\n",
       "      <td>26.837500</td>\n",
       "      <td>27.332500</td>\n",
       "      <td>24.696352</td>\n",
       "      <td>212818400</td>\n",
       "    </tr>\n",
       "    <tr>\n",
       "      <th>1</th>\n",
       "      <td>2015-01-05</td>\n",
       "      <td>27.072500</td>\n",
       "      <td>27.162500</td>\n",
       "      <td>26.352501</td>\n",
       "      <td>26.562500</td>\n",
       "      <td>24.000614</td>\n",
       "      <td>257142000</td>\n",
       "    </tr>\n",
       "    <tr>\n",
       "      <th>2</th>\n",
       "      <td>2015-01-06</td>\n",
       "      <td>26.635000</td>\n",
       "      <td>26.857500</td>\n",
       "      <td>26.157499</td>\n",
       "      <td>26.565001</td>\n",
       "      <td>24.002876</td>\n",
       "      <td>263188400</td>\n",
       "    </tr>\n",
       "    <tr>\n",
       "      <th>3</th>\n",
       "      <td>2015-01-07</td>\n",
       "      <td>26.799999</td>\n",
       "      <td>27.049999</td>\n",
       "      <td>26.674999</td>\n",
       "      <td>26.937500</td>\n",
       "      <td>24.339447</td>\n",
       "      <td>160423600</td>\n",
       "    </tr>\n",
       "    <tr>\n",
       "      <th>4</th>\n",
       "      <td>2015-01-08</td>\n",
       "      <td>27.307501</td>\n",
       "      <td>28.037500</td>\n",
       "      <td>27.174999</td>\n",
       "      <td>27.972500</td>\n",
       "      <td>25.274624</td>\n",
       "      <td>237458000</td>\n",
       "    </tr>\n",
       "  </tbody>\n",
       "</table>\n",
       "</div>"
      ],
      "text/plain": [
       "        Date       Open       High        Low      Close  Adj Close     Volume\n",
       "0 2015-01-02  27.847500  27.860001  26.837500  27.332500  24.696352  212818400\n",
       "1 2015-01-05  27.072500  27.162500  26.352501  26.562500  24.000614  257142000\n",
       "2 2015-01-06  26.635000  26.857500  26.157499  26.565001  24.002876  263188400\n",
       "3 2015-01-07  26.799999  27.049999  26.674999  26.937500  24.339447  160423600\n",
       "4 2015-01-08  27.307501  28.037500  27.174999  27.972500  25.274624  237458000"
      ]
     },
     "execution_count": 32,
     "metadata": {},
     "output_type": "execute_result"
    }
   ],
   "source": [
    "aapl_new.head()"
   ]
  },
  {
   "cell_type": "code",
   "execution_count": 45,
   "metadata": {},
   "outputs": [
    {
     "data": {
      "image/png": "[encoded data removed]",
      "text/plain": [
       "<Figure size 1080x432 with 1 Axes>"
      ]
     },
     "metadata": {
      "needs_background": "light"
     },
     "output_type": "display_data"
    }
   ],
   "source": [
    "#Plotting new close prices to compare to other charts for data quality\n",
    "fig, ax = plt.subplots(figsize=(15, 6))\n",
    "aapl_new_line = sns.lineplot(x='Date', y ='Close', data = aapl_new[['Date','Close']]).set_title('AAPL Closing Price from 2015-2020')\n",
    "plt.show()"
   ]
  },
  {
   "cell_type": "code",
   "execution_count": 22,
   "metadata": {},
   "outputs": [
    {
     "data": {
      "text/html": [
       "<div>\n",
       "<style scoped>\n",
       "    .dataframe tbody tr th:only-of-type {\n",
       "        vertical-align: middle;\n",
       "    }\n",
       "\n",
       "    .dataframe tbody tr th {\n",
       "        vertical-align: top;\n",
       "    }\n",
       "\n",
       "    .dataframe thead th {\n",
       "        text-align: right;\n",
       "    }\n",
       "</style>\n",
       "<table border=\"1\" class=\"dataframe\">\n",
       "  <thead>\n",
       "    <tr style=\"text-align: right;\">\n",
       "      <th></th>\n",
       "      <th>Open</th>\n",
       "      <th>High</th>\n",
       "      <th>Low</th>\n",
       "      <th>Close</th>\n",
       "      <th>Volume</th>\n",
       "    </tr>\n",
       "  </thead>\n",
       "  <tbody>\n",
       "    <tr>\n",
       "      <th>0</th>\n",
       "      <td>8.410357</td>\n",
       "      <td>8.450357</td>\n",
       "      <td>8.373571</td>\n",
       "      <td>8.392858</td>\n",
       "      <td>430659600</td>\n",
       "    </tr>\n",
       "    <tr>\n",
       "      <th>1</th>\n",
       "      <td>8.478929</td>\n",
       "      <td>8.526072</td>\n",
       "      <td>8.312500</td>\n",
       "      <td>8.427500</td>\n",
       "      <td>603145200</td>\n",
       "    </tr>\n",
       "    <tr>\n",
       "      <th>2</th>\n",
       "      <td>8.392143</td>\n",
       "      <td>8.518214</td>\n",
       "      <td>8.384643</td>\n",
       "      <td>8.517500</td>\n",
       "      <td>684507600</td>\n",
       "    </tr>\n",
       "    <tr>\n",
       "      <th>3</th>\n",
       "      <td>8.507143</td>\n",
       "      <td>8.580000</td>\n",
       "      <td>8.464286</td>\n",
       "      <td>8.555000</td>\n",
       "      <td>447017200</td>\n",
       "    </tr>\n",
       "    <tr>\n",
       "      <th>4</th>\n",
       "      <td>8.555357</td>\n",
       "      <td>8.640000</td>\n",
       "      <td>8.523571</td>\n",
       "      <td>8.592857</td>\n",
       "      <td>628502000</td>\n",
       "    </tr>\n",
       "  </tbody>\n",
       "</table>\n",
       "</div>"
      ],
      "text/plain": [
       "       Open      High       Low     Close     Volume\n",
       "0  8.410357  8.450357  8.373571  8.392858  430659600\n",
       "1  8.478929  8.526072  8.312500  8.427500  603145200\n",
       "2  8.392143  8.518214  8.384643  8.517500  684507600\n",
       "3  8.507143  8.580000  8.464286  8.555000  447017200\n",
       "4  8.555357  8.640000  8.523571  8.592857  628502000"
      ]
     },
     "execution_count": 22,
     "metadata": {},
     "output_type": "execute_result"
    }
   ],
   "source": [
    "#Removing unessesary columns\n",
    "del(aapl_og['Date'])\n",
    "del(aapl_og['Adj Close'])\n",
    "del(aapl_new['Date'])\n",
    "del(aapl_new['Adj Close'])\n",
    "\n",
    "aapl_og.head()"
   ]
  },
  {
   "cell_type": "markdown",
   "metadata": {},
   "source": [
    "## Expontential Smoothing\n",
    "\n",
    "Using alpha = 0.9 for greater emphasis on more recent data"
   ]
  },
  {
   "cell_type": "code",
   "execution_count": 4,
   "metadata": {},
   "outputs": [],
   "source": [
    "def get_exp_preprocessing(df, alpha=0.9):\n",
    "    edata = df.ewm(alpha=alpha).mean()\n",
    "    return edata"
   ]
  },
  {
   "cell_type": "code",
   "execution_count": 5,
   "metadata": {},
   "outputs": [
    {
     "data": {
      "text/html": [
       "<div>\n",
       "<style scoped>\n",
       "    .dataframe tbody tr th:only-of-type {\n",
       "        vertical-align: middle;\n",
       "    }\n",
       "\n",
       "    .dataframe tbody tr th {\n",
       "        vertical-align: top;\n",
       "    }\n",
       "\n",
       "    .dataframe thead th {\n",
       "        text-align: right;\n",
       "    }\n",
       "</style>\n",
       "<table border=\"1\" class=\"dataframe\">\n",
       "  <thead>\n",
       "    <tr style=\"text-align: right;\">\n",
       "      <th></th>\n",
       "      <th>Open</th>\n",
       "      <th>High</th>\n",
       "      <th>Low</th>\n",
       "      <th>Close</th>\n",
       "      <th>Volume</th>\n",
       "    </tr>\n",
       "  </thead>\n",
       "  <tbody>\n",
       "    <tr>\n",
       "      <th>0</th>\n",
       "      <td>8.410357</td>\n",
       "      <td>8.450357</td>\n",
       "      <td>8.373571</td>\n",
       "      <td>8.392858</td>\n",
       "      <td>4.306596e+08</td>\n",
       "    </tr>\n",
       "    <tr>\n",
       "      <th>1</th>\n",
       "      <td>8.472695</td>\n",
       "      <td>8.519189</td>\n",
       "      <td>8.318052</td>\n",
       "      <td>8.424351</td>\n",
       "      <td>5.874647e+08</td>\n",
       "    </tr>\n",
       "    <tr>\n",
       "      <th>2</th>\n",
       "      <td>8.400126</td>\n",
       "      <td>8.518311</td>\n",
       "      <td>8.378044</td>\n",
       "      <td>8.508269</td>\n",
       "      <td>6.748907e+08</td>\n",
       "    </tr>\n",
       "    <tr>\n",
       "      <th>3</th>\n",
       "      <td>8.496451</td>\n",
       "      <td>8.573837</td>\n",
       "      <td>8.455670</td>\n",
       "      <td>8.550331</td>\n",
       "      <td>4.697840e+08</td>\n",
       "    </tr>\n",
       "    <tr>\n",
       "      <th>4</th>\n",
       "      <td>8.549467</td>\n",
       "      <td>8.633384</td>\n",
       "      <td>8.516781</td>\n",
       "      <td>8.588605</td>\n",
       "      <td>6.126316e+08</td>\n",
       "    </tr>\n",
       "  </tbody>\n",
       "</table>\n",
       "</div>"
      ],
      "text/plain": [
       "       Open      High       Low     Close        Volume\n",
       "0  8.410357  8.450357  8.373571  8.392858  4.306596e+08\n",
       "1  8.472695  8.519189  8.318052  8.424351  5.874647e+08\n",
       "2  8.400126  8.518311  8.378044  8.508269  6.748907e+08\n",
       "3  8.496451  8.573837  8.455670  8.550331  4.697840e+08\n",
       "4  8.549467  8.633384  8.516781  8.588605  6.126316e+08"
      ]
     },
     "execution_count": 5,
     "metadata": {},
     "output_type": "execute_result"
    }
   ],
   "source": [
    "saapl_og = get_exp_preprocessing(aapl_og)\n",
    "saapl_og.head()"
   ]
  },
  {
   "cell_type": "markdown",
   "metadata": {},
   "source": [
    "## Calculating the Values from Technical Analysis\n",
    "\n",
    "The paper uses formulas created by Peter Bakker at  https://www.quantopian.com/posts/technical-analysis-indicators-without-talib-code\n",
    "\n",
    "I've analyzed the indicators and it seems like there are a few errors with the calculations, I will try to fix them later but for now, we are just trying to replicate the results"
   ]
  },
  {
   "cell_type": "code",
   "execution_count": 6,
   "metadata": {},
   "outputs": [],
   "source": [
    "#This takes the formulas from Bakker and adds extra columns to the dataframe with the indicator data, this will be\n",
    "#our feature matrix (X)\n",
    "def feature_extraction(data):\n",
    "    for x in [5, 14, 26, 44, 66]:\n",
    "        data = ta.relative_strength_index(data, n=x)\n",
    "        data = ta.stochastic_oscillator_d(data, n=x)\n",
    "        data = ta.accumulation_distribution(data, n=x)\n",
    "        data = ta.average_true_range(data, n=x)\n",
    "        data = ta.momentum(data, n=x)\n",
    "        data = ta.money_flow_index(data, n=x)\n",
    "        data = ta.rate_of_change(data, n=x)\n",
    "        data = ta.on_balance_volume(data, n=x)\n",
    "        data = ta.commodity_channel_index(data, n=x)\n",
    "        data = ta.ease_of_movement(data, n=x)\n",
    "        data = ta.trix(data, n=x)\n",
    "        data = ta.vortex_indicator(data, n=x)\n",
    "    \n",
    "    data['ema50'] = data['Close'] / data['Close'].ewm(50).mean()\n",
    "    data['ema21'] = data['Close'] / data['Close'].ewm(21).mean()\n",
    "    data['ema14'] = data['Close'] / data['Close'].ewm(14).mean()\n",
    "    data['ema5'] = data['Close'] / data['Close'].ewm(5).mean()\n",
    "        \n",
    "    #Williams %R is missing\n",
    "    data = ta.macd(data, n_fast=12, n_slow=26)\n",
    "    \n",
    "    del(data['Open'])\n",
    "    del(data['High'])\n",
    "    del(data['Low'])\n",
    "    del(data['Volume'])\n",
    "    \n",
    "    return data\n",
    "\n",
    "#This returns a series that has a one if the price increase or 0 if the price decreases after n number of days\n",
    "#This column will be the target vector (y)\n",
    "def compute_prediction_int(df, n):\n",
    "    pred = (df.shift(-n)['Close'] >= df['Close'])#returns a boolean if the price after a shifted number of days is higher or lower\n",
    "    pred = pred.iloc[:-n]\n",
    "    return pred.astype(int)\n",
    "\n",
    "#This calls the feature_extraction function to add the new indicators to the dataframe as well as the compute_prediction\n",
    "#that checks if the price increased or decreased after a certian \"horizon\"\n",
    "def prepare_data(df, horizon):\n",
    "    data = feature_extraction(df).dropna().iloc[:-horizon]\n",
    "    data['pred'] = compute_prediction_int(data, n=horizon)\n",
    "    del(data['Close'])\n",
    "    return data.dropna()"
   ]
  },
  {
   "cell_type": "markdown",
   "metadata": {},
   "source": [
    "## Preparing the Data\n",
    "In the original notebook, they split the data manually first before using train_test_split, here we are going to go directly to using train test split\n",
    "\n",
    "The reasoning for not using train test split was data leakage? Need to look into this some more"
   ]
  },
  {
   "cell_type": "code",
   "execution_count": 7,
   "metadata": {},
   "outputs": [
    {
     "data": {
      "text/html": [
       "<div>\n",
       "<style scoped>\n",
       "    .dataframe tbody tr th:only-of-type {\n",
       "        vertical-align: middle;\n",
       "    }\n",
       "\n",
       "    .dataframe tbody tr th {\n",
       "        vertical-align: top;\n",
       "    }\n",
       "\n",
       "    .dataframe thead th {\n",
       "        text-align: right;\n",
       "    }\n",
       "</style>\n",
       "<table border=\"1\" class=\"dataframe\">\n",
       "  <thead>\n",
       "    <tr style=\"text-align: right;\">\n",
       "      <th></th>\n",
       "      <th>RSI_5</th>\n",
       "      <th>SO%d_5</th>\n",
       "      <th>Acc/Dist_ROC_5</th>\n",
       "      <th>ATR_5</th>\n",
       "      <th>Momentum_5</th>\n",
       "      <th>MFI_5</th>\n",
       "      <th>ROC_5</th>\n",
       "      <th>OBV_5</th>\n",
       "      <th>CCI_5</th>\n",
       "      <th>EoM_5</th>\n",
       "      <th>...</th>\n",
       "      <th>EoM_66</th>\n",
       "      <th>Trix_66</th>\n",
       "      <th>Vortex_66</th>\n",
       "      <th>ema50</th>\n",
       "      <th>ema21</th>\n",
       "      <th>ema14</th>\n",
       "      <th>ema5</th>\n",
       "      <th>MACD_12_26</th>\n",
       "      <th>MACDsign_12_26</th>\n",
       "      <th>MACDdiff_12_26</th>\n",
       "    </tr>\n",
       "  </thead>\n",
       "  <tbody>\n",
       "    <tr>\n",
       "      <th>196</th>\n",
       "      <td>0.912781</td>\n",
       "      <td>0.727042</td>\n",
       "      <td>-0.136525</td>\n",
       "      <td>0.139337</td>\n",
       "      <td>0.471227</td>\n",
       "      <td>1.0</td>\n",
       "      <td>0.021282</td>\n",
       "      <td>3.217439e+08</td>\n",
       "      <td>1.030952</td>\n",
       "      <td>3.788118e-11</td>\n",
       "      <td>...</td>\n",
       "      <td>6.373460e-12</td>\n",
       "      <td>0.001628</td>\n",
       "      <td>0.266886</td>\n",
       "      <td>1.106229</td>\n",
       "      <td>1.053050</td>\n",
       "      <td>1.039232</td>\n",
       "      <td>1.020300</td>\n",
       "      <td>0.166994</td>\n",
       "      <td>0.139178</td>\n",
       "      <td>0.027816</td>\n",
       "    </tr>\n",
       "    <tr>\n",
       "      <th>197</th>\n",
       "      <td>0.969547</td>\n",
       "      <td>0.776262</td>\n",
       "      <td>1.141859</td>\n",
       "      <td>0.172047</td>\n",
       "      <td>0.461123</td>\n",
       "      <td>1.0</td>\n",
       "      <td>0.032454</td>\n",
       "      <td>3.247681e+08</td>\n",
       "      <td>1.607662</td>\n",
       "      <td>4.302690e-11</td>\n",
       "      <td>...</td>\n",
       "      <td>7.179510e-12</td>\n",
       "      <td>0.001634</td>\n",
       "      <td>0.278924</td>\n",
       "      <td>1.122878</td>\n",
       "      <td>1.068111</td>\n",
       "      <td>1.053485</td>\n",
       "      <td>1.031681</td>\n",
       "      <td>0.191716</td>\n",
       "      <td>0.149686</td>\n",
       "      <td>0.042030</td>\n",
       "    </tr>\n",
       "    <tr>\n",
       "      <th>198</th>\n",
       "      <td>0.977255</td>\n",
       "      <td>0.666259</td>\n",
       "      <td>-1.220665</td>\n",
       "      <td>0.180520</td>\n",
       "      <td>0.378790</td>\n",
       "      <td>1.0</td>\n",
       "      <td>0.023825</td>\n",
       "      <td>1.721067e+08</td>\n",
       "      <td>1.246925</td>\n",
       "      <td>4.016993e-11</td>\n",
       "      <td>...</td>\n",
       "      <td>7.683809e-12</td>\n",
       "      <td>0.001641</td>\n",
       "      <td>0.289678</td>\n",
       "      <td>1.119684</td>\n",
       "      <td>1.064405</td>\n",
       "      <td>1.049348</td>\n",
       "      <td>1.025920</td>\n",
       "      <td>0.208507</td>\n",
       "      <td>0.161450</td>\n",
       "      <td>0.047057</td>\n",
       "    </tr>\n",
       "    <tr>\n",
       "      <th>199</th>\n",
       "      <td>0.977255</td>\n",
       "      <td>0.739163</td>\n",
       "      <td>-10.454762</td>\n",
       "      <td>0.153720</td>\n",
       "      <td>0.372807</td>\n",
       "      <td>1.0</td>\n",
       "      <td>0.031211</td>\n",
       "      <td>1.830402e+08</td>\n",
       "      <td>1.066253</td>\n",
       "      <td>3.459559e-11</td>\n",
       "      <td>...</td>\n",
       "      <td>7.437044e-12</td>\n",
       "      <td>0.001648</td>\n",
       "      <td>0.278619</td>\n",
       "      <td>1.124964</td>\n",
       "      <td>1.068652</td>\n",
       "      <td>1.052990</td>\n",
       "      <td>1.027672</td>\n",
       "      <td>0.226376</td>\n",
       "      <td>0.174435</td>\n",
       "      <td>0.051941</td>\n",
       "    </tr>\n",
       "    <tr>\n",
       "      <th>200</th>\n",
       "      <td>0.984948</td>\n",
       "      <td>0.718927</td>\n",
       "      <td>-0.589453</td>\n",
       "      <td>0.135635</td>\n",
       "      <td>0.421389</td>\n",
       "      <td>1.0</td>\n",
       "      <td>0.028717</td>\n",
       "      <td>1.834769e+08</td>\n",
       "      <td>1.019671</td>\n",
       "      <td>3.449549e-11</td>\n",
       "      <td>...</td>\n",
       "      <td>7.346022e-12</td>\n",
       "      <td>0.001657</td>\n",
       "      <td>0.268702</td>\n",
       "      <td>1.126570</td>\n",
       "      <td>1.069400</td>\n",
       "      <td>1.053203</td>\n",
       "      <td>1.026361</td>\n",
       "      <td>0.241735</td>\n",
       "      <td>0.187895</td>\n",
       "      <td>0.053840</td>\n",
       "    </tr>\n",
       "  </tbody>\n",
       "</table>\n",
       "<p>5 rows × 67 columns</p>\n",
       "</div>"
      ],
      "text/plain": [
       "        RSI_5    SO%d_5  Acc/Dist_ROC_5     ATR_5  Momentum_5  MFI_5  \\\n",
       "196  0.912781  0.727042       -0.136525  0.139337    0.471227    1.0   \n",
       "197  0.969547  0.776262        1.141859  0.172047    0.461123    1.0   \n",
       "198  0.977255  0.666259       -1.220665  0.180520    0.378790    1.0   \n",
       "199  0.977255  0.739163      -10.454762  0.153720    0.372807    1.0   \n",
       "200  0.984948  0.718927       -0.589453  0.135635    0.421389    1.0   \n",
       "\n",
       "        ROC_5         OBV_5     CCI_5         EoM_5  ...        EoM_66  \\\n",
       "196  0.021282  3.217439e+08  1.030952  3.788118e-11  ...  6.373460e-12   \n",
       "197  0.032454  3.247681e+08  1.607662  4.302690e-11  ...  7.179510e-12   \n",
       "198  0.023825  1.721067e+08  1.246925  4.016993e-11  ...  7.683809e-12   \n",
       "199  0.031211  1.830402e+08  1.066253  3.459559e-11  ...  7.437044e-12   \n",
       "200  0.028717  1.834769e+08  1.019671  3.449549e-11  ...  7.346022e-12   \n",
       "\n",
       "      Trix_66  Vortex_66     ema50     ema21     ema14      ema5  MACD_12_26  \\\n",
       "196  0.001628   0.266886  1.106229  1.053050  1.039232  1.020300    0.166994   \n",
       "197  0.001634   0.278924  1.122878  1.068111  1.053485  1.031681    0.191716   \n",
       "198  0.001641   0.289678  1.119684  1.064405  1.049348  1.025920    0.208507   \n",
       "199  0.001648   0.278619  1.124964  1.068652  1.052990  1.027672    0.226376   \n",
       "200  0.001657   0.268702  1.126570  1.069400  1.053203  1.026361    0.241735   \n",
       "\n",
       "     MACDsign_12_26  MACDdiff_12_26  \n",
       "196        0.139178        0.027816  \n",
       "197        0.149686        0.042030  \n",
       "198        0.161450        0.047057  \n",
       "199        0.174435        0.051941  \n",
       "200        0.187895        0.053840  \n",
       "\n",
       "[5 rows x 67 columns]"
      ]
     },
     "execution_count": 7,
     "metadata": {},
     "output_type": "execute_result"
    }
   ],
   "source": [
    "data = prepare_data(saapl_og, 10)\n",
    "\n",
    "y = data['pred']\n",
    "\n",
    "#Not exactly too sure what the author was trying to do in this step\n",
    "#remove the output from the input\n",
    "features = [x for x in data.columns if x not in ['gain', 'pred']]\n",
    "X = data[features]\n",
    "X.head()"
   ]
  },
  {
   "cell_type": "code",
   "execution_count": 8,
   "metadata": {},
   "outputs": [
    {
     "data": {
      "text/plain": [
       "196    1.0\n",
       "197    0.0\n",
       "198    1.0\n",
       "199    0.0\n",
       "200    0.0\n",
       "Name: pred, dtype: float64"
      ]
     },
     "execution_count": 8,
     "metadata": {},
     "output_type": "execute_result"
    }
   ],
   "source": [
    "y.head()"
   ]
  },
  {
   "cell_type": "code",
   "execution_count": 9,
   "metadata": {},
   "outputs": [],
   "source": [
    "#Splitting the data into training and test set\n",
    "X_train, X_test, y_train, y_test = train_test_split(X, y, train_size = 2*len(X) // 3)"
   ]
  },
  {
   "cell_type": "markdown",
   "metadata": {},
   "source": [
    "## Training the model and Applying model to data"
   ]
  },
  {
   "cell_type": "code",
   "execution_count": 10,
   "metadata": {},
   "outputs": [],
   "source": [
    "model = RandomForestClassifier(n_jobs=-1, n_estimators=65, random_state=42)\n",
    "model.fit(X_train, y_train.values.ravel());"
   ]
  },
  {
   "cell_type": "code",
   "execution_count": 11,
   "metadata": {},
   "outputs": [
    {
     "name": "stdout",
     "output_type": "stream",
     "text": [
      "precision: 0.84, recall: 0.91, f1: 0.87, accuracy: 0.85\n",
      "Confusion Matrix\n",
      "[[113  32]\n",
      " [ 16 166]]\n"
     ]
    }
   ],
   "source": [
    "pred = model.predict(X_test)\n",
    "precision = precision_score(y_pred=pred, y_true=y_test)\n",
    "recall = recall_score(y_pred=pred, y_true=y_test)\n",
    "f1 = f1_score(y_pred=pred, y_true=y_test)\n",
    "accuracy = accuracy_score(y_pred=pred, y_true=y_test)\n",
    "confusion = confusion_matrix(y_pred=pred, y_true=y_test)\n",
    "print('precision: {0:1.2f}, recall: {1:1.2f}, f1: {2:1.2f}, accuracy: {3:1.2f}'.format(precision, recall, f1, accuracy))\n",
    "print('Confusion Matrix')\n",
    "print(confusion)"
   ]
  },
  {
   "cell_type": "markdown",
   "metadata": {},
   "source": [
    "The author of the original paper achieved an accuracy of 92% with this data set while we achieved 85%, a reason for this was because we had to adjusted the data for all the stock splits since this paper was originally published."
   ]
  },
  {
   "cell_type": "code",
   "execution_count": 15,
   "metadata": {},
   "outputs": [
    {
     "data": {
      "text/plain": [
       "(1479, 5)"
      ]
     },
     "execution_count": 15,
     "metadata": {},
     "output_type": "execute_result"
    }
   ],
   "source": [
    "aapl_new.shape"
   ]
  },
  {
   "cell_type": "code",
   "execution_count": null,
   "metadata": {},
   "outputs": [],
   "source": []
  }
 ],
 "metadata": {
  "kernelspec": {
   "display_name": "Python 3",
   "language": "python",
   "name": "python3"
  },
  "language_info": {
   "codemirror_mode": {
    "name": "ipython",
    "version": 3
   },
   "file_extension": ".py",
   "mimetype": "text/x-python",
   "name": "python",
   "nbconvert_exporter": "python",
   "pygments_lexer": "ipython3",
   "version": "3.8.3"
  }
 },
 "nbformat": 4,
 "nbformat_minor": 4
}
